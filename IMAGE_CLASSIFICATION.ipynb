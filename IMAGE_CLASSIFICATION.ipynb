{
  "nbformat": 4,
  "nbformat_minor": 0,
  "metadata": {
    "colab": {
      "name": "IMAGE CLASSIFICATION.ipynb",
      "provenance": [],
      "authorship_tag": "ABX9TyMZBGBuxvjPrf/vh9j/OPgw",
      "include_colab_link": true
    },
    "kernelspec": {
      "name": "python3",
      "display_name": "Python 3"
    },
    "language_info": {
      "name": "python"
    }
  },
  "cells": [
    {
      "cell_type": "markdown",
      "metadata": {
        "id": "view-in-github",
        "colab_type": "text"
      },
      "source": [
        "<a href=\"https://colab.research.google.com/github/Labhyasreenivas/ML/blob/main/IMAGE_CLASSIFICATION.ipynb\" target=\"_parent\"><img src=\"https://colab.research.google.com/assets/colab-badge.svg\" alt=\"Open In Colab\"/></a>"
      ]
    },
    {
      "cell_type": "code",
      "metadata": {
        "colab": {
          "base_uri": "https://localhost:8080/"
        },
        "id": "65ufiFmwyXHm",
        "outputId": "de1cf686-d02d-4c58-de1b-7f56ac56cb60"
      },
      "source": [
        "!pip install ipython-autotime\n",
        "%load_ext autotime"
      ],
      "execution_count": 1,
      "outputs": [
        {
          "output_type": "stream",
          "text": [
            "Collecting ipython-autotime\n",
            "  Downloading https://files.pythonhosted.org/packages/b4/c9/b413a24f759641bc27ef98c144b590023c8038dfb8a3f09e713e9dff12c1/ipython_autotime-0.3.1-py2.py3-none-any.whl\n",
            "Requirement already satisfied: ipython in /usr/local/lib/python3.7/dist-packages (from ipython-autotime) (5.5.0)\n",
            "Requirement already satisfied: pygments in /usr/local/lib/python3.7/dist-packages (from ipython->ipython-autotime) (2.6.1)\n",
            "Requirement already satisfied: setuptools>=18.5 in /usr/local/lib/python3.7/dist-packages (from ipython->ipython-autotime) (57.0.0)\n",
            "Requirement already satisfied: simplegeneric>0.8 in /usr/local/lib/python3.7/dist-packages (from ipython->ipython-autotime) (0.8.1)\n",
            "Requirement already satisfied: traitlets>=4.2 in /usr/local/lib/python3.7/dist-packages (from ipython->ipython-autotime) (5.0.5)\n",
            "Requirement already satisfied: decorator in /usr/local/lib/python3.7/dist-packages (from ipython->ipython-autotime) (4.4.2)\n",
            "Requirement already satisfied: pickleshare in /usr/local/lib/python3.7/dist-packages (from ipython->ipython-autotime) (0.7.5)\n",
            "Requirement already satisfied: pexpect; sys_platform != \"win32\" in /usr/local/lib/python3.7/dist-packages (from ipython->ipython-autotime) (4.8.0)\n",
            "Requirement already satisfied: prompt-toolkit<2.0.0,>=1.0.4 in /usr/local/lib/python3.7/dist-packages (from ipython->ipython-autotime) (1.0.18)\n",
            "Requirement already satisfied: ipython-genutils in /usr/local/lib/python3.7/dist-packages (from traitlets>=4.2->ipython->ipython-autotime) (0.2.0)\n",
            "Requirement already satisfied: ptyprocess>=0.5 in /usr/local/lib/python3.7/dist-packages (from pexpect; sys_platform != \"win32\"->ipython->ipython-autotime) (0.7.0)\n",
            "Requirement already satisfied: six>=1.9.0 in /usr/local/lib/python3.7/dist-packages (from prompt-toolkit<2.0.0,>=1.0.4->ipython->ipython-autotime) (1.15.0)\n",
            "Requirement already satisfied: wcwidth in /usr/local/lib/python3.7/dist-packages (from prompt-toolkit<2.0.0,>=1.0.4->ipython->ipython-autotime) (0.2.5)\n",
            "Installing collected packages: ipython-autotime\n",
            "Successfully installed ipython-autotime-0.3.1\n",
            "time: 2.08 ms (started: 2021-06-28 18:05:52 +00:00)\n"
          ],
          "name": "stdout"
        }
      ]
    },
    {
      "cell_type": "code",
      "metadata": {
        "colab": {
          "base_uri": "https://localhost:8080/"
        },
        "id": "2t0LFPGDzgRl",
        "outputId": "b1b0c483-97a4-4d74-c7e2-8ac5bcbf06cb"
      },
      "source": [
        "!pip install bing-image-downloader"
      ],
      "execution_count": 2,
      "outputs": [
        {
          "output_type": "stream",
          "text": [
            "Collecting bing-image-downloader\n",
            "  Downloading https://files.pythonhosted.org/packages/c2/04/1872a689a30036aa0b81ac9fca124a7413cad71fdab714f727cf1a34b671/bing_image_downloader-1.1.1-py3-none-any.whl\n",
            "Installing collected packages: bing-image-downloader\n",
            "Successfully installed bing-image-downloader-1.1.1\n",
            "time: 3.13 s (started: 2021-06-28 18:07:46 +00:00)\n"
          ],
          "name": "stdout"
        }
      ]
    },
    {
      "cell_type": "code",
      "metadata": {
        "colab": {
          "base_uri": "https://localhost:8080/"
        },
        "id": "-Vm-Vq9GzpCC",
        "outputId": "b3cbd3ee-f3f6-4917-bc0b-96f4fe9ccee7"
      },
      "source": [
        "!mkdir images #create directory"
      ],
      "execution_count": 3,
      "outputs": [
        {
          "output_type": "stream",
          "text": [
            "time: 127 ms (started: 2021-06-28 18:08:05 +00:00)\n"
          ],
          "name": "stdout"
        }
      ]
    },
    {
      "cell_type": "code",
      "metadata": {
        "colab": {
          "base_uri": "https://localhost:8080/"
        },
        "id": "iVvQSpyfzwRS",
        "outputId": "b922c4da-17ed-4c58-defb-b52fe2ee894d"
      },
      "source": [
        "from bing_image_downloader import downloader\n",
        "downloader.download(\"horses\",limit=25,output_dir='images',adult_filter_off=True)"
      ],
      "execution_count": 4,
      "outputs": [
        {
          "output_type": "stream",
          "text": [
            "[%] Downloading Images to /content/images/horses\n",
            "\n",
            "\n",
            "[!!]Indexing page: 1\n",
            "\n",
            "[%] Indexed 25 Images on Page 1.\n",
            "\n",
            "===============================================\n",
            "\n",
            "[%] Downloading Image #1 from https://i.pinimg.com/originals/00/13/5b/00135b4463595ab97e316774242e9cdc.jpg\n",
            "[%] File Downloaded !\n",
            "\n",
            "[%] Downloading Image #2 from https://truenaturefoundation.org/wp-content/uploads/2019/04/konik-horses-are-not-tarpans.jpg\n",
            "[%] File Downloaded !\n",
            "\n",
            "[%] Downloading Image #3 from https://i.pinimg.com/originals/62/90/3f/62903fc50d54cf019092c58e813d592d.jpg\n",
            "[%] File Downloaded !\n",
            "\n",
            "[%] Downloading Image #4 from https://i.pinimg.com/originals/77/fc/29/77fc291a681c855f66caa355e0b3c895.jpg\n",
            "[%] File Downloaded !\n",
            "\n",
            "[%] Downloading Image #5 from https://mlecxw1udrif.i.optimole.com/sE0auBc-qBZVA1GW/w:auto/h:auto/q:auto/https://www.debrasaum.com/wp-content/uploads/Dana-Rullo-2.19.09-VI-edited2.jpg\n",
            "[%] File Downloaded !\n",
            "\n",
            "[%] Downloading Image #6 from https://i.pinimg.com/originals/42/9a/3d/429a3d545ce36191ebc809c8d31806e8.jpg\n",
            "[%] File Downloaded !\n",
            "\n",
            "[%] Downloading Image #7 from https://i.pinimg.com/originals/6e/a9/f2/6ea9f2a338e86539984018b3400124dc.jpg\n",
            "[%] File Downloaded !\n",
            "\n",
            "[%] Downloading Image #8 from https://i.pinimg.com/originals/5e/87/a9/5e87a97d75a4b29e1b51644b2077d971.jpg\n",
            "[%] File Downloaded !\n",
            "\n",
            "[%] Downloading Image #9 from https://i.pinimg.com/originals/75/01/5b/75015b942478194bc149ece6d7ab1331.jpg\n",
            "[%] File Downloaded !\n",
            "\n",
            "[%] Downloading Image #10 from https://mlecxw1udrif.i.optimole.com/sE0auBc-giUZGZSW/w:auto/h:auto/q:auto/https://www.debrasaum.com/wp-content/uploads/P4080240.jpg\n",
            "[%] File Downloaded !\n",
            "\n",
            "[%] Downloading Image #11 from https://i.pinimg.com/originals/ae/74/1c/ae741c3cfd33b3b1d57e7cb13d3d1a96.jpg\n",
            "[%] File Downloaded !\n",
            "\n",
            "[%] Downloading Image #12 from https://i.pinimg.com/originals/9a/96/30/9a963075495c41c3e401b8bf5efced72.jpg\n",
            "[%] File Downloaded !\n",
            "\n",
            "[%] Downloading Image #13 from https://i.pinimg.com/originals/b1/77/d0/b177d098ab7fea13e0151ae481bdc3ae.jpg\n",
            "[%] File Downloaded !\n",
            "\n",
            "[%] Downloading Image #14 from https://mlecxw1udrif.i.optimole.com/sE0auBc--1wxbonw/w:auto/h:auto/q:auto/https://www.debrasaum.com/wp-content/uploads/IMG_5050.jpg\n",
            "[%] File Downloaded !\n",
            "\n",
            "[%] Downloading Image #15 from https://i.pinimg.com/originals/2a/05/0a/2a050a3f23091a1dc04ef17fc8fe3587.jpg\n",
            "[%] File Downloaded !\n",
            "\n",
            "[%] Downloading Image #16 from https://i.pinimg.com/originals/28/d9/62/28d962410667cc9bfeb092745c9de6e8.jpg\n",
            "[%] File Downloaded !\n",
            "\n",
            "[%] Downloading Image #17 from https://i.pinimg.com/originals/60/9a/d4/609ad45d760353dc9debe60ace0dfb15.jpg\n",
            "[%] File Downloaded !\n",
            "\n",
            "[%] Downloading Image #18 from https://i.pinimg.com/736x/13/0f/93/130f93e0f3c9737547f5fdc8aafb4b70.jpg\n",
            "[%] File Downloaded !\n",
            "\n",
            "[%] Downloading Image #19 from https://i.pinimg.com/originals/10/a9/e2/10a9e2c4fec52120828be72ea0a9b71f.jpg\n",
            "[%] File Downloaded !\n",
            "\n",
            "[%] Downloading Image #20 from https://i.pinimg.com/originals/36/0b/a2/360ba2c292092842c4a1aff173fba6e1.jpg\n",
            "[%] File Downloaded !\n",
            "\n",
            "[%] Downloading Image #21 from https://i.pinimg.com/originals/a3/89/3c/a3893ce8ac30a8312dd96745737099b4.jpg\n",
            "[%] File Downloaded !\n",
            "\n",
            "[%] Downloading Image #22 from https://i.pinimg.com/originals/e3/bf/d6/e3bfd6c8047fb459a5739df40323485e.png\n",
            "[%] File Downloaded !\n",
            "\n",
            "[%] Downloading Image #23 from https://i.pinimg.com/originals/95/6b/dc/956bdc1bf138ea64ab162098c541832f.jpg\n",
            "[%] File Downloaded !\n",
            "\n",
            "[%] Downloading Image #24 from https://i.pinimg.com/736x/2c/6d/4c/2c6d4c3edd98fc08ba481f71b31d052d.jpg\n",
            "[%] File Downloaded !\n",
            "\n",
            "[%] Downloading Image #25 from https://horsewisdomblog.files.wordpress.com/2018/05/18-e1527154654505.jpg\n",
            "[%] File Downloaded !\n",
            "\n",
            "\n",
            "\n",
            "[%] Done. Downloaded 25 images.\n",
            "===============================================\n",
            "\n",
            "Please show your support here\n",
            "https://www.buymeacoffee.com/gurugaurav\n",
            "\n",
            "===============================================\n",
            "\n",
            "time: 6.95 s (started: 2021-06-28 18:08:35 +00:00)\n"
          ],
          "name": "stdout"
        }
      ]
    },
    {
      "cell_type": "code",
      "metadata": {
        "colab": {
          "base_uri": "https://localhost:8080/"
        },
        "id": "qKtqhO_-z2wx",
        "outputId": "e453f7fc-50fe-42e1-b578-a651561a3ab8"
      },
      "source": [
        "downloader.download(\"pretty butterfly\",limit=25,output_dir='images',adult_filter_off=True)"
      ],
      "execution_count": 5,
      "outputs": [
        {
          "output_type": "stream",
          "text": [
            "[%] Downloading Images to /content/images/pretty butterfly\n",
            "\n",
            "\n",
            "[!!]Indexing page: 1\n",
            "\n",
            "[%] Indexed 25 Images on Page 1.\n",
            "\n",
            "===============================================\n",
            "\n",
            "[%] Downloading Image #1 from https://i.pinimg.com/originals/3a/3b/04/3a3b048f12c0ac7af5a1a18c4e77d409.jpg\n",
            "[%] File Downloaded !\n",
            "\n",
            "[%] Downloading Image #2 from https://i.pinimg.com/736x/01/38/88/0138883019d63a037c3a3b1abc766aa2.jpg\n",
            "[%] File Downloaded !\n",
            "\n",
            "[%] Downloading Image #3 from https://i.pinimg.com/736x/68/9e/ea/689eea553a07529c618571e8b91c1a96.jpg\n",
            "[%] File Downloaded !\n",
            "\n",
            "[%] Downloading Image #4 from https://i.pinimg.com/originals/fc/ca/e5/fccae56501966250ee4193c35fd2e2eb.jpg\n",
            "[%] File Downloaded !\n",
            "\n",
            "[%] Downloading Image #5 from https://i.pinimg.com/originals/a4/f7/31/a4f7314166fc768f8eb4e4d2b165e30f.jpg\n",
            "[%] File Downloaded !\n",
            "\n",
            "[%] Downloading Image #6 from http://2.bp.blogspot.com/-cCpDwlK4zHg/TcP0Pjfxk5I/AAAAAAAAAn8/w8ntZN7eXgU/s1600/Beautiful_butterfly_images.jpg\n",
            "[%] File Downloaded !\n",
            "\n",
            "[%] Downloading Image #7 from https://i.pinimg.com/564x/e9/af/dc/e9afdc8c3bb3d9380f5329741308f1c2.jpg\n",
            "[%] File Downloaded !\n",
            "\n",
            "[%] Downloading Image #8 from https://i.pinimg.com/originals/4d/ae/c2/4daec231fb57dabe0befef4f7d9e140d.jpg\n",
            "[%] File Downloaded !\n",
            "\n",
            "[%] Downloading Image #9 from https://i.pinimg.com/originals/7d/0f/6f/7d0f6faa465391dfa8202cef060f5b27.jpg\n",
            "[%] File Downloaded !\n",
            "\n",
            "[%] Downloading Image #10 from http://1.bp.blogspot.com/-JOG6zzen7m4/U3IuTzMvPUI/AAAAAAAAFoU/AHCE4SGfg9w/s1600/Butterfly+Hd+Photos+&amp;+Wallpapers+(1).jpg\n",
            "[%] File Downloaded !\n",
            "\n",
            "[%] Downloading Image #11 from https://i.pinimg.com/originals/7b/d0/4f/7bd04f050a382153938c317abfdd6fed.jpg\n",
            "[%] File Downloaded !\n",
            "\n",
            "[%] Downloading Image #12 from https://i.pinimg.com/originals/69/83/46/698346056e2c987ecaeb5ff1de7041a8.jpg\n",
            "[%] File Downloaded !\n",
            "\n",
            "[%] Downloading Image #13 from https://i.pinimg.com/736x/26/91/3d/26913dd7620fec01eaf290f6fb8e0f46--beautiful-bugs-beautiful-butterflies.jpg\n",
            "[%] File Downloaded !\n",
            "\n",
            "[%] Downloading Image #14 from https://i.pinimg.com/originals/01/5c/48/015c4885273c630e1cee969025f70ae0.jpg\n",
            "[%] File Downloaded !\n",
            "\n",
            "[%] Downloading Image #15 from https://i.pinimg.com/originals/ab/60/0e/ab600e7aeac02a53a9c3c329e06906c1.jpg\n",
            "[%] File Downloaded !\n",
            "\n",
            "[%] Downloading Image #16 from https://i.pinimg.com/originals/17/5e/3e/175e3e3db092ca39ee44cacb3cf3fd89.jpg\n",
            "[%] File Downloaded !\n",
            "\n",
            "[%] Downloading Image #17 from https://myfreedo.in/img/2018/11/2737860_butterfly 5.jpg\n",
            "[!] Issue getting: https://myfreedo.in/img/2018/11/2737860_butterfly 5.jpg\n",
            "[!] Error:: URL can't contain control characters. '/img/2018/11/2737860_butterfly 5.jpg' (found at least ' ')\n",
            "[%] Downloading Image #17 from https://i.pinimg.com/736x/89/fc/64/89fc64614cdde5a9b33bb29528cfb455--patterns-lady-bugs.jpg\n",
            "[%] File Downloaded !\n",
            "\n",
            "[%] Downloading Image #18 from https://i.pinimg.com/originals/15/b3/59/15b359f5238a82df7d12edba328415bd.jpg\n",
            "[%] File Downloaded !\n",
            "\n",
            "[%] Downloading Image #19 from https://i.pinimg.com/736x/d5/f3/bd/d5f3bd3005a6bd283ac780be38f7eba1--google-beautiful-butterflies.jpg\n",
            "[%] File Downloaded !\n",
            "\n",
            "[%] Downloading Image #20 from https://i.pinimg.com/originals/e1/8b/a6/e18ba657150e948c66b87f4836c4e84f.jpg\n",
            "[%] File Downloaded !\n",
            "\n",
            "[%] Downloading Image #21 from https://i.ytimg.com/vi/ch7SuVpw7rw/maxresdefault.jpg\n",
            "[%] File Downloaded !\n",
            "\n",
            "[%] Downloading Image #22 from https://i.pinimg.com/originals/c5/51/9d/c5519d006ead2da462f4b39373cfa72c.jpg\n",
            "[%] File Downloaded !\n",
            "\n",
            "[%] Downloading Image #23 from https://i.pinimg.com/originals/3a/b6/57/3ab6576b5743acd7c0947c38be05cbf7.jpg\n",
            "[%] File Downloaded !\n",
            "\n",
            "[%] Downloading Image #24 from https://i.pinimg.com/474x/26/6e/06/266e06a9e3f38a8458c14e61a0d4d5dc--glass-butterfly-butterfly-wings.jpg\n",
            "[%] File Downloaded !\n",
            "\n",
            "\n",
            "\n",
            "[!!]Indexing page: 2\n",
            "\n",
            "[%] Indexed 35 Images on Page 2.\n",
            "\n",
            "===============================================\n",
            "\n",
            "[%] Downloading Image #25 from https://i.pinimg.com/originals/3a/3b/04/3a3b048f12c0ac7af5a1a18c4e77d409.jpg\n",
            "[%] File Downloaded !\n",
            "\n",
            "\n",
            "\n",
            "[%] Done. Downloaded 25 images.\n",
            "===============================================\n",
            "\n",
            "Please show your support here\n",
            "https://www.buymeacoffee.com/gurugaurav\n",
            "\n",
            "===============================================\n",
            "\n",
            "time: 4.53 s (started: 2021-06-28 18:09:17 +00:00)\n"
          ],
          "name": "stdout"
        }
      ]
    },
    {
      "cell_type": "code",
      "metadata": {
        "colab": {
          "base_uri": "https://localhost:8080/"
        },
        "id": "HSVuNApiz9sY",
        "outputId": "db6ca9d2-e4c4-4639-f850-99814597f30b"
      },
      "source": [
        "downloader.download(\"Beautiful Dolphin\",limit=25,output_dir='images',adult_filter_off=True)"
      ],
      "execution_count": 6,
      "outputs": [
        {
          "output_type": "stream",
          "text": [
            "[%] Downloading Images to /content/images/Beautiful Dolphin\n",
            "\n",
            "\n",
            "[!!]Indexing page: 1\n",
            "\n",
            "[%] Indexed 25 Images on Page 1.\n",
            "\n",
            "===============================================\n",
            "\n",
            "[%] Downloading Image #1 from https://img1.grunge.com/img/gallery/false-facts-about-dolphins-you-always-thought-were-true/intro-1500661774.jpg\n",
            "[%] File Downloaded !\n",
            "\n",
            "[%] Downloading Image #2 from https://i.pinimg.com/originals/69/b8/88/69b8888d64bea574dfbf649fc9532736.jpg\n",
            "[%] File Downloaded !\n",
            "\n",
            "[%] Downloading Image #3 from https://i.pinimg.com/originals/a7/67/3d/a7673d9e408ed199dff1290a8d3cc6b6.jpg\n",
            "[%] File Downloaded !\n",
            "\n",
            "[%] Downloading Image #4 from https://animalogic.ca/wp-content/uploads/2018/08/shutterstock_1164046342.jpg\n",
            "[%] File Downloaded !\n",
            "\n",
            "[%] Downloading Image #5 from https://www.whitepearlresorts.com/wp-content/uploads/2018/07/DOLPHINS.png\n",
            "[%] File Downloaded !\n",
            "\n",
            "[%] Downloading Image #6 from https://i.pinimg.com/originals/64/91/e3/6491e304c536a1e5534bb7daac20ab84.jpg\n",
            "[%] File Downloaded !\n",
            "\n",
            "[%] Downloading Image #7 from https://i.pinimg.com/736x/a0/e1/72/a0e1722626e109342f71a47c5ee18c80.jpg\n",
            "[%] File Downloaded !\n",
            "\n",
            "[%] Downloading Image #8 from https://i.pinimg.com/originals/d5/53/21/d55321101c6b9428078c5e0c5cdb586a.jpg\n",
            "[%] File Downloaded !\n",
            "\n",
            "[%] Downloading Image #9 from https://i.pinimg.com/originals/b7/da/c6/b7dac67b64221dd535df5e433183a5b1.jpg\n",
            "[%] File Downloaded !\n",
            "\n",
            "[%] Downloading Image #10 from https://i.pinimg.com/originals/93/14/89/931489b6dfad8728f065a4448ddd5e76.jpg\n",
            "[%] File Downloaded !\n",
            "\n",
            "[%] Downloading Image #11 from https://i.pinimg.com/736x/b1/4f/d7/b14fd79261a9b6f533d8b16f86f02976--time-photography-sunset-photography.jpg\n",
            "[%] File Downloaded !\n",
            "\n",
            "[%] Downloading Image #12 from https://i.pinimg.com/736x/5e/99/52/5e9952d9012f4a9f25242cf8b1cafaf0.jpg\n",
            "[%] File Downloaded !\n",
            "\n",
            "[%] Downloading Image #13 from https://i.pinimg.com/originals/0d/f5/00/0df500de1075d0588a2b0894ec21179e.jpg\n",
            "[%] File Downloaded !\n",
            "\n",
            "[%] Downloading Image #14 from https://i.pinimg.com/originals/9b/7c/44/9b7c4429aa7e5e1193252267a18d0423.jpg\n",
            "[%] File Downloaded !\n",
            "\n",
            "[%] Downloading Image #15 from https://i.pinimg.com/originals/48/c4/3f/48c43f90cf662a278d6e5db8e472680c.jpg\n",
            "[%] File Downloaded !\n",
            "\n",
            "[%] Downloading Image #16 from https://803277.smushcdn.com/1580116/wp-content/uploads/2020/03/disneynature-dolphin-reef-disney-2.png?lossy=0&amp;strip=0&amp;webp=1\n",
            "[%] File Downloaded !\n",
            "\n",
            "[%] Downloading Image #17 from http://2.bp.blogspot.com/-ft_Jy0qC1nM/T483VrLyydI/AAAAAAAAARo/bSMFHk4va3k/s1600/d2.jpg\n",
            "[%] File Downloaded !\n",
            "\n",
            "[%] Downloading Image #18 from https://i.pinimg.com/736x/16/9d/3f/169d3fff7542136c742889ab6abd8c81--bottlenose-dolphin-cute-baby-animals.jpg\n",
            "[%] File Downloaded !\n",
            "\n",
            "[%] Downloading Image #19 from https://i.pinimg.com/736x/f3/d8/7a/f3d87a7581b0c3e91d035b8a8aee29d9--side-a-the-marine.jpg\n",
            "[%] File Downloaded !\n",
            "\n",
            "[%] Downloading Image #20 from https://i.pinimg.com/originals/41/d8/f5/41d8f5e3b3a6ac8a71b58b697c508216.jpg\n",
            "[%] File Downloaded !\n",
            "\n",
            "[%] Downloading Image #21 from https://cdn.quotesgram.com/img/0/40/1461133217-tumblr_m35solTI9J1rsl4f5o1_1280.png\n",
            "[%] File Downloaded !\n",
            "\n",
            "[%] Downloading Image #22 from https://www.pluggedin.com/wp-content/uploads/2020/04/Dolphins-Reef-WP.jpg\n",
            "[%] File Downloaded !\n",
            "\n",
            "[%] Downloading Image #23 from https://i.pinimg.com/originals/1d/21/4d/1d214d152b05f4d5a5466d14b6e6a3a2.jpg\n",
            "[%] File Downloaded !\n",
            "\n",
            "[%] Downloading Image #24 from https://s-media-cache-ak0.pinimg.com/736x/70/0b/52/700b527894691527dba749d253dbbf2e--dolphins-beautiful.jpg\n",
            "[%] File Downloaded !\n",
            "\n",
            "[%] Downloading Image #25 from https://i.pinimg.com/originals/5d/f9/ea/5df9ea3d365ef2b0113754f1f12be68f.jpg\n",
            "[%] File Downloaded !\n",
            "\n",
            "\n",
            "\n",
            "[%] Done. Downloaded 25 images.\n",
            "===============================================\n",
            "\n",
            "Please show your support here\n",
            "https://www.buymeacoffee.com/gurugaurav\n",
            "\n",
            "===============================================\n",
            "\n",
            "time: 12.7 s (started: 2021-06-28 18:09:42 +00:00)\n"
          ],
          "name": "stdout"
        }
      ]
    },
    {
      "cell_type": "code",
      "metadata": {
        "colab": {
          "base_uri": "https://localhost:8080/",
          "height": 504
        },
        "id": "Fa66fOzU0IB6",
        "outputId": "f417ac0b-cb9b-4c70-8fe8-06c642d347ba"
      },
      "source": [
        "#preprocessing data\n",
        "\n",
        "import os # handling folders\n",
        "import matplotlib.pyplot as plt # displaying images\n",
        "import numpy as np # numerical computing\n",
        "from skimage.io import imread #reading an image\n",
        "from skimage.transform import resize #resizing an image\n",
        "import pandas as pd\n",
        "\n",
        "target=[]\n",
        "images=[]\n",
        "flat_data=[]\n",
        "\n",
        "DATADIR='/content/images'\n",
        "CATEGORIES=['horses','pretty butterfly','Beautiful Dolphin']\n",
        "\n",
        "for category in CATEGORIES:\n",
        "  class_num=CATEGORIES.index(category) #label encoding\n",
        "  path=os.path.join(DATADIR,category) #creating path to access images\n",
        "  for img in os.listdir(path):\n",
        "    img_array = imread(os.path.join(path,img))\n",
        "    #print(img_array.shape)\n",
        "    #plt.imshow(img_array)\n",
        "    img_resized=resize(img_array,(150,150,3))\n",
        "    flat_data.append(img_resized.flatten())\n",
        "    images.append(img_resized)\n",
        "    target.append(class_num)\n",
        "flat_data=np.array(flat_data)\n",
        "target=np.array(target)\n",
        "images=np.array(images) \n",
        "print('DATAFRAME')\n",
        "df = pd.DataFrame(flat_data)\n",
        "df['TARGET'] = target\n",
        "df\n"
      ],
      "execution_count": 8,
      "outputs": [
        {
          "output_type": "stream",
          "text": [
            "/usr/local/lib/python3.7/dist-packages/PIL/TiffImagePlugin.py:788: UserWarning: Corrupt EXIF data.  Expecting to read 4 bytes but only got 0. \n",
            "  warnings.warn(str(msg))\n"
          ],
          "name": "stderr"
        },
        {
          "output_type": "stream",
          "text": [
            "DATAFRAME\n"
          ],
          "name": "stdout"
        },
        {
          "output_type": "execute_result",
          "data": {
            "text/html": [
              "<div>\n",
              "<style scoped>\n",
              "    .dataframe tbody tr th:only-of-type {\n",
              "        vertical-align: middle;\n",
              "    }\n",
              "\n",
              "    .dataframe tbody tr th {\n",
              "        vertical-align: top;\n",
              "    }\n",
              "\n",
              "    .dataframe thead th {\n",
              "        text-align: right;\n",
              "    }\n",
              "</style>\n",
              "<table border=\"1\" class=\"dataframe\">\n",
              "  <thead>\n",
              "    <tr style=\"text-align: right;\">\n",
              "      <th></th>\n",
              "      <th>0</th>\n",
              "      <th>1</th>\n",
              "      <th>2</th>\n",
              "      <th>3</th>\n",
              "      <th>4</th>\n",
              "      <th>5</th>\n",
              "      <th>6</th>\n",
              "      <th>7</th>\n",
              "      <th>8</th>\n",
              "      <th>9</th>\n",
              "      <th>10</th>\n",
              "      <th>11</th>\n",
              "      <th>12</th>\n",
              "      <th>13</th>\n",
              "      <th>14</th>\n",
              "      <th>15</th>\n",
              "      <th>16</th>\n",
              "      <th>17</th>\n",
              "      <th>18</th>\n",
              "      <th>19</th>\n",
              "      <th>20</th>\n",
              "      <th>21</th>\n",
              "      <th>22</th>\n",
              "      <th>23</th>\n",
              "      <th>24</th>\n",
              "      <th>25</th>\n",
              "      <th>26</th>\n",
              "      <th>27</th>\n",
              "      <th>28</th>\n",
              "      <th>29</th>\n",
              "      <th>30</th>\n",
              "      <th>31</th>\n",
              "      <th>32</th>\n",
              "      <th>33</th>\n",
              "      <th>34</th>\n",
              "      <th>35</th>\n",
              "      <th>36</th>\n",
              "      <th>37</th>\n",
              "      <th>38</th>\n",
              "      <th>39</th>\n",
              "      <th>...</th>\n",
              "      <th>67461</th>\n",
              "      <th>67462</th>\n",
              "      <th>67463</th>\n",
              "      <th>67464</th>\n",
              "      <th>67465</th>\n",
              "      <th>67466</th>\n",
              "      <th>67467</th>\n",
              "      <th>67468</th>\n",
              "      <th>67469</th>\n",
              "      <th>67470</th>\n",
              "      <th>67471</th>\n",
              "      <th>67472</th>\n",
              "      <th>67473</th>\n",
              "      <th>67474</th>\n",
              "      <th>67475</th>\n",
              "      <th>67476</th>\n",
              "      <th>67477</th>\n",
              "      <th>67478</th>\n",
              "      <th>67479</th>\n",
              "      <th>67480</th>\n",
              "      <th>67481</th>\n",
              "      <th>67482</th>\n",
              "      <th>67483</th>\n",
              "      <th>67484</th>\n",
              "      <th>67485</th>\n",
              "      <th>67486</th>\n",
              "      <th>67487</th>\n",
              "      <th>67488</th>\n",
              "      <th>67489</th>\n",
              "      <th>67490</th>\n",
              "      <th>67491</th>\n",
              "      <th>67492</th>\n",
              "      <th>67493</th>\n",
              "      <th>67494</th>\n",
              "      <th>67495</th>\n",
              "      <th>67496</th>\n",
              "      <th>67497</th>\n",
              "      <th>67498</th>\n",
              "      <th>67499</th>\n",
              "      <th>TARGET</th>\n",
              "    </tr>\n",
              "  </thead>\n",
              "  <tbody>\n",
              "    <tr>\n",
              "      <th>0</th>\n",
              "      <td>0.583834</td>\n",
              "      <td>0.689542</td>\n",
              "      <td>0.771895</td>\n",
              "      <td>0.627242</td>\n",
              "      <td>0.719399</td>\n",
              "      <td>0.807634</td>\n",
              "      <td>0.603059</td>\n",
              "      <td>0.681490</td>\n",
              "      <td>0.779529</td>\n",
              "      <td>0.573168</td>\n",
              "      <td>0.647678</td>\n",
              "      <td>0.761403</td>\n",
              "      <td>0.523425</td>\n",
              "      <td>0.582353</td>\n",
              "      <td>0.692157</td>\n",
              "      <td>0.453359</td>\n",
              "      <td>0.532235</td>\n",
              "      <td>0.626562</td>\n",
              "      <td>0.584044</td>\n",
              "      <td>0.689542</td>\n",
              "      <td>0.779773</td>\n",
              "      <td>0.584105</td>\n",
              "      <td>0.644889</td>\n",
              "      <td>0.733020</td>\n",
              "      <td>0.525281</td>\n",
              "      <td>0.568418</td>\n",
              "      <td>0.670205</td>\n",
              "      <td>0.574954</td>\n",
              "      <td>0.633778</td>\n",
              "      <td>0.731817</td>\n",
              "      <td>0.617647</td>\n",
              "      <td>0.686379</td>\n",
              "      <td>0.782458</td>\n",
              "      <td>0.586754</td>\n",
              "      <td>0.662092</td>\n",
              "      <td>0.756209</td>\n",
              "      <td>0.533952</td>\n",
              "      <td>0.612383</td>\n",
              "      <td>0.706501</td>\n",
              "      <td>0.533752</td>\n",
              "      <td>...</td>\n",
              "      <td>0.290196</td>\n",
              "      <td>0.294118</td>\n",
              "      <td>0.250980</td>\n",
              "      <td>0.290196</td>\n",
              "      <td>0.278431</td>\n",
              "      <td>0.239869</td>\n",
              "      <td>0.276471</td>\n",
              "      <td>0.262745</td>\n",
              "      <td>0.219608</td>\n",
              "      <td>0.266013</td>\n",
              "      <td>0.250980</td>\n",
              "      <td>0.199346</td>\n",
              "      <td>0.243791</td>\n",
              "      <td>0.232026</td>\n",
              "      <td>0.161438</td>\n",
              "      <td>0.219608</td>\n",
              "      <td>0.205882</td>\n",
              "      <td>0.135294</td>\n",
              "      <td>0.184314</td>\n",
              "      <td>0.171895</td>\n",
              "      <td>0.105229</td>\n",
              "      <td>0.157516</td>\n",
              "      <td>0.141830</td>\n",
              "      <td>0.094118</td>\n",
              "      <td>0.139111</td>\n",
              "      <td>0.123425</td>\n",
              "      <td>0.082353</td>\n",
              "      <td>0.141176</td>\n",
              "      <td>0.121569</td>\n",
              "      <td>0.090196</td>\n",
              "      <td>0.160784</td>\n",
              "      <td>0.129412</td>\n",
              "      <td>0.101961</td>\n",
              "      <td>0.168627</td>\n",
              "      <td>0.133333</td>\n",
              "      <td>0.109804</td>\n",
              "      <td>0.149020</td>\n",
              "      <td>0.113725</td>\n",
              "      <td>0.089542</td>\n",
              "      <td>0</td>\n",
              "    </tr>\n",
              "    <tr>\n",
              "      <th>1</th>\n",
              "      <td>0.498349</td>\n",
              "      <td>0.576471</td>\n",
              "      <td>0.427059</td>\n",
              "      <td>0.481776</td>\n",
              "      <td>0.564706</td>\n",
              "      <td>0.439216</td>\n",
              "      <td>0.493294</td>\n",
              "      <td>0.580392</td>\n",
              "      <td>0.468216</td>\n",
              "      <td>0.486027</td>\n",
              "      <td>0.551765</td>\n",
              "      <td>0.448980</td>\n",
              "      <td>0.418082</td>\n",
              "      <td>0.485882</td>\n",
              "      <td>0.379918</td>\n",
              "      <td>0.349412</td>\n",
              "      <td>0.400784</td>\n",
              "      <td>0.301612</td>\n",
              "      <td>0.301961</td>\n",
              "      <td>0.349020</td>\n",
              "      <td>0.254902</td>\n",
              "      <td>0.270588</td>\n",
              "      <td>0.321569</td>\n",
              "      <td>0.239216</td>\n",
              "      <td>0.258000</td>\n",
              "      <td>0.313725</td>\n",
              "      <td>0.250980</td>\n",
              "      <td>0.270898</td>\n",
              "      <td>0.337647</td>\n",
              "      <td>0.270588</td>\n",
              "      <td>0.305490</td>\n",
              "      <td>0.376078</td>\n",
              "      <td>0.305490</td>\n",
              "      <td>0.347843</td>\n",
              "      <td>0.437110</td>\n",
              "      <td>0.366522</td>\n",
              "      <td>0.431784</td>\n",
              "      <td>0.565118</td>\n",
              "      <td>0.539216</td>\n",
              "      <td>0.546522</td>\n",
              "      <td>...</td>\n",
              "      <td>0.396490</td>\n",
              "      <td>0.184314</td>\n",
              "      <td>0.086275</td>\n",
              "      <td>0.415686</td>\n",
              "      <td>0.192157</td>\n",
              "      <td>0.082353</td>\n",
              "      <td>0.419608</td>\n",
              "      <td>0.200000</td>\n",
              "      <td>0.082353</td>\n",
              "      <td>0.424663</td>\n",
              "      <td>0.200000</td>\n",
              "      <td>0.086275</td>\n",
              "      <td>0.420184</td>\n",
              "      <td>0.200000</td>\n",
              "      <td>0.086275</td>\n",
              "      <td>0.427863</td>\n",
              "      <td>0.207843</td>\n",
              "      <td>0.092157</td>\n",
              "      <td>0.415686</td>\n",
              "      <td>0.211765</td>\n",
              "      <td>0.105882</td>\n",
              "      <td>0.415686</td>\n",
              "      <td>0.211765</td>\n",
              "      <td>0.125490</td>\n",
              "      <td>0.400392</td>\n",
              "      <td>0.203922</td>\n",
              "      <td>0.125490</td>\n",
              "      <td>0.429020</td>\n",
              "      <td>0.230196</td>\n",
              "      <td>0.158431</td>\n",
              "      <td>0.567490</td>\n",
              "      <td>0.347882</td>\n",
              "      <td>0.267078</td>\n",
              "      <td>0.762639</td>\n",
              "      <td>0.580902</td>\n",
              "      <td>0.469098</td>\n",
              "      <td>0.788192</td>\n",
              "      <td>0.614902</td>\n",
              "      <td>0.478388</td>\n",
              "      <td>0</td>\n",
              "    </tr>\n",
              "    <tr>\n",
              "      <th>2</th>\n",
              "      <td>0.705882</td>\n",
              "      <td>0.654902</td>\n",
              "      <td>0.635843</td>\n",
              "      <td>0.741176</td>\n",
              "      <td>0.690196</td>\n",
              "      <td>0.674510</td>\n",
              "      <td>0.764706</td>\n",
              "      <td>0.713725</td>\n",
              "      <td>0.701961</td>\n",
              "      <td>0.796000</td>\n",
              "      <td>0.741098</td>\n",
              "      <td>0.733333</td>\n",
              "      <td>0.823529</td>\n",
              "      <td>0.765725</td>\n",
              "      <td>0.756863</td>\n",
              "      <td>0.847059</td>\n",
              "      <td>0.784314</td>\n",
              "      <td>0.768627</td>\n",
              "      <td>0.866667</td>\n",
              "      <td>0.792157</td>\n",
              "      <td>0.760784</td>\n",
              "      <td>0.870588</td>\n",
              "      <td>0.780392</td>\n",
              "      <td>0.725098</td>\n",
              "      <td>0.874510</td>\n",
              "      <td>0.768627</td>\n",
              "      <td>0.680863</td>\n",
              "      <td>0.886275</td>\n",
              "      <td>0.764706</td>\n",
              "      <td>0.658824</td>\n",
              "      <td>0.886275</td>\n",
              "      <td>0.764706</td>\n",
              "      <td>0.650980</td>\n",
              "      <td>0.878431</td>\n",
              "      <td>0.756863</td>\n",
              "      <td>0.643137</td>\n",
              "      <td>0.862745</td>\n",
              "      <td>0.741176</td>\n",
              "      <td>0.627451</td>\n",
              "      <td>0.832235</td>\n",
              "      <td>...</td>\n",
              "      <td>0.328353</td>\n",
              "      <td>0.263647</td>\n",
              "      <td>0.074510</td>\n",
              "      <td>0.288078</td>\n",
              "      <td>0.229255</td>\n",
              "      <td>0.070588</td>\n",
              "      <td>0.292000</td>\n",
              "      <td>0.229020</td>\n",
              "      <td>0.084284</td>\n",
              "      <td>0.266667</td>\n",
              "      <td>0.205112</td>\n",
              "      <td>0.098039</td>\n",
              "      <td>0.296549</td>\n",
              "      <td>0.230568</td>\n",
              "      <td>0.117647</td>\n",
              "      <td>0.323584</td>\n",
              "      <td>0.262925</td>\n",
              "      <td>0.121569</td>\n",
              "      <td>0.315529</td>\n",
              "      <td>0.258824</td>\n",
              "      <td>0.121569</td>\n",
              "      <td>0.326320</td>\n",
              "      <td>0.254902</td>\n",
              "      <td>0.132190</td>\n",
              "      <td>0.354276</td>\n",
              "      <td>0.261725</td>\n",
              "      <td>0.155843</td>\n",
              "      <td>0.372585</td>\n",
              "      <td>0.290232</td>\n",
              "      <td>0.164706</td>\n",
              "      <td>0.398518</td>\n",
              "      <td>0.312243</td>\n",
              "      <td>0.162588</td>\n",
              "      <td>0.410875</td>\n",
              "      <td>0.321569</td>\n",
              "      <td>0.173595</td>\n",
              "      <td>0.427451</td>\n",
              "      <td>0.333333</td>\n",
              "      <td>0.184314</td>\n",
              "      <td>0</td>\n",
              "    </tr>\n",
              "    <tr>\n",
              "      <th>3</th>\n",
              "      <td>0.805294</td>\n",
              "      <td>0.921569</td>\n",
              "      <td>0.950392</td>\n",
              "      <td>0.813137</td>\n",
              "      <td>0.919402</td>\n",
              "      <td>0.945304</td>\n",
              "      <td>0.837598</td>\n",
              "      <td>0.928775</td>\n",
              "      <td>0.950049</td>\n",
              "      <td>0.850980</td>\n",
              "      <td>0.936363</td>\n",
              "      <td>0.965598</td>\n",
              "      <td>0.837676</td>\n",
              "      <td>0.935853</td>\n",
              "      <td>0.960000</td>\n",
              "      <td>0.813892</td>\n",
              "      <td>0.926863</td>\n",
              "      <td>0.950392</td>\n",
              "      <td>0.818431</td>\n",
              "      <td>0.926863</td>\n",
              "      <td>0.946471</td>\n",
              "      <td>0.837647</td>\n",
              "      <td>0.935343</td>\n",
              "      <td>0.951029</td>\n",
              "      <td>0.844510</td>\n",
              "      <td>0.941176</td>\n",
              "      <td>0.956863</td>\n",
              "      <td>0.844637</td>\n",
              "      <td>0.938627</td>\n",
              "      <td>0.956863</td>\n",
              "      <td>0.854775</td>\n",
              "      <td>0.938627</td>\n",
              "      <td>0.956863</td>\n",
              "      <td>0.856275</td>\n",
              "      <td>0.938627</td>\n",
              "      <td>0.958235</td>\n",
              "      <td>0.858824</td>\n",
              "      <td>0.941176</td>\n",
              "      <td>0.960784</td>\n",
              "      <td>0.858824</td>\n",
              "      <td>...</td>\n",
              "      <td>0.549510</td>\n",
              "      <td>0.500735</td>\n",
              "      <td>0.441275</td>\n",
              "      <td>0.403912</td>\n",
              "      <td>0.345088</td>\n",
              "      <td>0.289020</td>\n",
              "      <td>0.459931</td>\n",
              "      <td>0.406529</td>\n",
              "      <td>0.358098</td>\n",
              "      <td>0.576147</td>\n",
              "      <td>0.535559</td>\n",
              "      <td>0.485824</td>\n",
              "      <td>0.552931</td>\n",
              "      <td>0.496451</td>\n",
              "      <td>0.431549</td>\n",
              "      <td>0.533725</td>\n",
              "      <td>0.454363</td>\n",
              "      <td>0.374559</td>\n",
              "      <td>0.600088</td>\n",
              "      <td>0.509412</td>\n",
              "      <td>0.427059</td>\n",
              "      <td>0.559637</td>\n",
              "      <td>0.486667</td>\n",
              "      <td>0.373529</td>\n",
              "      <td>0.447480</td>\n",
              "      <td>0.395127</td>\n",
              "      <td>0.241010</td>\n",
              "      <td>0.482549</td>\n",
              "      <td>0.426275</td>\n",
              "      <td>0.302637</td>\n",
              "      <td>0.419069</td>\n",
              "      <td>0.367745</td>\n",
              "      <td>0.255392</td>\n",
              "      <td>0.485676</td>\n",
              "      <td>0.418216</td>\n",
              "      <td>0.312745</td>\n",
              "      <td>0.674118</td>\n",
              "      <td>0.582353</td>\n",
              "      <td>0.485686</td>\n",
              "      <td>0</td>\n",
              "    </tr>\n",
              "    <tr>\n",
              "      <th>4</th>\n",
              "      <td>0.678431</td>\n",
              "      <td>0.803922</td>\n",
              "      <td>0.988235</td>\n",
              "      <td>0.686275</td>\n",
              "      <td>0.811765</td>\n",
              "      <td>0.988235</td>\n",
              "      <td>0.705882</td>\n",
              "      <td>0.811765</td>\n",
              "      <td>0.978431</td>\n",
              "      <td>0.709804</td>\n",
              "      <td>0.815686</td>\n",
              "      <td>0.976471</td>\n",
              "      <td>0.713725</td>\n",
              "      <td>0.815686</td>\n",
              "      <td>0.976471</td>\n",
              "      <td>0.707059</td>\n",
              "      <td>0.819608</td>\n",
              "      <td>0.987059</td>\n",
              "      <td>0.716824</td>\n",
              "      <td>0.819608</td>\n",
              "      <td>0.983137</td>\n",
              "      <td>0.721569</td>\n",
              "      <td>0.819608</td>\n",
              "      <td>0.987059</td>\n",
              "      <td>0.714902</td>\n",
              "      <td>0.815686</td>\n",
              "      <td>0.990980</td>\n",
              "      <td>0.707059</td>\n",
              "      <td>0.819608</td>\n",
              "      <td>0.987059</td>\n",
              "      <td>0.721569</td>\n",
              "      <td>0.820784</td>\n",
              "      <td>0.984314</td>\n",
              "      <td>0.725490</td>\n",
              "      <td>0.823529</td>\n",
              "      <td>0.984314</td>\n",
              "      <td>0.735294</td>\n",
              "      <td>0.827451</td>\n",
              "      <td>0.988235</td>\n",
              "      <td>0.741176</td>\n",
              "      <td>...</td>\n",
              "      <td>0.446275</td>\n",
              "      <td>0.548824</td>\n",
              "      <td>0.270980</td>\n",
              "      <td>0.316471</td>\n",
              "      <td>0.376471</td>\n",
              "      <td>0.185882</td>\n",
              "      <td>0.306000</td>\n",
              "      <td>0.326667</td>\n",
              "      <td>0.146392</td>\n",
              "      <td>0.391373</td>\n",
              "      <td>0.407843</td>\n",
              "      <td>0.180000</td>\n",
              "      <td>0.381961</td>\n",
              "      <td>0.430196</td>\n",
              "      <td>0.199569</td>\n",
              "      <td>0.447843</td>\n",
              "      <td>0.418431</td>\n",
              "      <td>0.214510</td>\n",
              "      <td>0.413725</td>\n",
              "      <td>0.387804</td>\n",
              "      <td>0.157255</td>\n",
              "      <td>0.316078</td>\n",
              "      <td>0.350588</td>\n",
              "      <td>0.082235</td>\n",
              "      <td>0.322353</td>\n",
              "      <td>0.357922</td>\n",
              "      <td>0.102745</td>\n",
              "      <td>0.382745</td>\n",
              "      <td>0.401176</td>\n",
              "      <td>0.165882</td>\n",
              "      <td>0.334510</td>\n",
              "      <td>0.394706</td>\n",
              "      <td>0.156078</td>\n",
              "      <td>0.404706</td>\n",
              "      <td>0.490980</td>\n",
              "      <td>0.233725</td>\n",
              "      <td>0.473608</td>\n",
              "      <td>0.562353</td>\n",
              "      <td>0.243137</td>\n",
              "      <td>0</td>\n",
              "    </tr>\n",
              "    <tr>\n",
              "      <th>...</th>\n",
              "      <td>...</td>\n",
              "      <td>...</td>\n",
              "      <td>...</td>\n",
              "      <td>...</td>\n",
              "      <td>...</td>\n",
              "      <td>...</td>\n",
              "      <td>...</td>\n",
              "      <td>...</td>\n",
              "      <td>...</td>\n",
              "      <td>...</td>\n",
              "      <td>...</td>\n",
              "      <td>...</td>\n",
              "      <td>...</td>\n",
              "      <td>...</td>\n",
              "      <td>...</td>\n",
              "      <td>...</td>\n",
              "      <td>...</td>\n",
              "      <td>...</td>\n",
              "      <td>...</td>\n",
              "      <td>...</td>\n",
              "      <td>...</td>\n",
              "      <td>...</td>\n",
              "      <td>...</td>\n",
              "      <td>...</td>\n",
              "      <td>...</td>\n",
              "      <td>...</td>\n",
              "      <td>...</td>\n",
              "      <td>...</td>\n",
              "      <td>...</td>\n",
              "      <td>...</td>\n",
              "      <td>...</td>\n",
              "      <td>...</td>\n",
              "      <td>...</td>\n",
              "      <td>...</td>\n",
              "      <td>...</td>\n",
              "      <td>...</td>\n",
              "      <td>...</td>\n",
              "      <td>...</td>\n",
              "      <td>...</td>\n",
              "      <td>...</td>\n",
              "      <td>...</td>\n",
              "      <td>...</td>\n",
              "      <td>...</td>\n",
              "      <td>...</td>\n",
              "      <td>...</td>\n",
              "      <td>...</td>\n",
              "      <td>...</td>\n",
              "      <td>...</td>\n",
              "      <td>...</td>\n",
              "      <td>...</td>\n",
              "      <td>...</td>\n",
              "      <td>...</td>\n",
              "      <td>...</td>\n",
              "      <td>...</td>\n",
              "      <td>...</td>\n",
              "      <td>...</td>\n",
              "      <td>...</td>\n",
              "      <td>...</td>\n",
              "      <td>...</td>\n",
              "      <td>...</td>\n",
              "      <td>...</td>\n",
              "      <td>...</td>\n",
              "      <td>...</td>\n",
              "      <td>...</td>\n",
              "      <td>...</td>\n",
              "      <td>...</td>\n",
              "      <td>...</td>\n",
              "      <td>...</td>\n",
              "      <td>...</td>\n",
              "      <td>...</td>\n",
              "      <td>...</td>\n",
              "      <td>...</td>\n",
              "      <td>...</td>\n",
              "      <td>...</td>\n",
              "      <td>...</td>\n",
              "      <td>...</td>\n",
              "      <td>...</td>\n",
              "      <td>...</td>\n",
              "      <td>...</td>\n",
              "      <td>...</td>\n",
              "      <td>...</td>\n",
              "    </tr>\n",
              "    <tr>\n",
              "      <th>70</th>\n",
              "      <td>0.396078</td>\n",
              "      <td>0.447059</td>\n",
              "      <td>0.650980</td>\n",
              "      <td>0.394954</td>\n",
              "      <td>0.445935</td>\n",
              "      <td>0.649856</td>\n",
              "      <td>0.396078</td>\n",
              "      <td>0.447059</td>\n",
              "      <td>0.650980</td>\n",
              "      <td>0.396078</td>\n",
              "      <td>0.447059</td>\n",
              "      <td>0.649281</td>\n",
              "      <td>0.402745</td>\n",
              "      <td>0.449804</td>\n",
              "      <td>0.647059</td>\n",
              "      <td>0.400131</td>\n",
              "      <td>0.447190</td>\n",
              "      <td>0.643268</td>\n",
              "      <td>0.403922</td>\n",
              "      <td>0.450980</td>\n",
              "      <td>0.647059</td>\n",
              "      <td>0.409804</td>\n",
              "      <td>0.450980</td>\n",
              "      <td>0.650980</td>\n",
              "      <td>0.408758</td>\n",
              "      <td>0.447059</td>\n",
              "      <td>0.647974</td>\n",
              "      <td>0.406756</td>\n",
              "      <td>0.452198</td>\n",
              "      <td>0.650980</td>\n",
              "      <td>0.405880</td>\n",
              "      <td>0.458824</td>\n",
              "      <td>0.650980</td>\n",
              "      <td>0.411278</td>\n",
              "      <td>0.458824</td>\n",
              "      <td>0.654902</td>\n",
              "      <td>0.409434</td>\n",
              "      <td>0.462745</td>\n",
              "      <td>0.654902</td>\n",
              "      <td>0.399720</td>\n",
              "      <td>...</td>\n",
              "      <td>0.249856</td>\n",
              "      <td>0.518113</td>\n",
              "      <td>0.351817</td>\n",
              "      <td>0.245935</td>\n",
              "      <td>0.513725</td>\n",
              "      <td>0.348383</td>\n",
              "      <td>0.247111</td>\n",
              "      <td>0.513778</td>\n",
              "      <td>0.352993</td>\n",
              "      <td>0.235294</td>\n",
              "      <td>0.501961</td>\n",
              "      <td>0.337255</td>\n",
              "      <td>0.227189</td>\n",
              "      <td>0.497124</td>\n",
              "      <td>0.323451</td>\n",
              "      <td>0.223529</td>\n",
              "      <td>0.491320</td>\n",
              "      <td>0.308967</td>\n",
              "      <td>0.220261</td>\n",
              "      <td>0.490196</td>\n",
              "      <td>0.305882</td>\n",
              "      <td>0.219608</td>\n",
              "      <td>0.498077</td>\n",
              "      <td>0.317778</td>\n",
              "      <td>0.215686</td>\n",
              "      <td>0.498826</td>\n",
              "      <td>0.321569</td>\n",
              "      <td>0.216810</td>\n",
              "      <td>0.501961</td>\n",
              "      <td>0.321569</td>\n",
              "      <td>0.215686</td>\n",
              "      <td>0.490850</td>\n",
              "      <td>0.317647</td>\n",
              "      <td>0.206327</td>\n",
              "      <td>0.482465</td>\n",
              "      <td>0.316635</td>\n",
              "      <td>0.209281</td>\n",
              "      <td>0.505961</td>\n",
              "      <td>0.338693</td>\n",
              "      <td>2</td>\n",
              "    </tr>\n",
              "    <tr>\n",
              "      <th>71</th>\n",
              "      <td>0.234444</td>\n",
              "      <td>0.807067</td>\n",
              "      <td>0.779542</td>\n",
              "      <td>0.245190</td>\n",
              "      <td>0.815686</td>\n",
              "      <td>0.798980</td>\n",
              "      <td>0.243619</td>\n",
              "      <td>0.818758</td>\n",
              "      <td>0.814837</td>\n",
              "      <td>0.247059</td>\n",
              "      <td>0.826936</td>\n",
              "      <td>0.823529</td>\n",
              "      <td>0.240065</td>\n",
              "      <td>0.814824</td>\n",
              "      <td>0.807830</td>\n",
              "      <td>0.236144</td>\n",
              "      <td>0.807700</td>\n",
              "      <td>0.788092</td>\n",
              "      <td>0.201346</td>\n",
              "      <td>0.778667</td>\n",
              "      <td>0.754395</td>\n",
              "      <td>0.244451</td>\n",
              "      <td>0.817255</td>\n",
              "      <td>0.780516</td>\n",
              "      <td>0.252837</td>\n",
              "      <td>0.803265</td>\n",
              "      <td>0.746343</td>\n",
              "      <td>0.230287</td>\n",
              "      <td>0.771163</td>\n",
              "      <td>0.709268</td>\n",
              "      <td>0.192004</td>\n",
              "      <td>0.741176</td>\n",
              "      <td>0.679128</td>\n",
              "      <td>0.205595</td>\n",
              "      <td>0.759386</td>\n",
              "      <td>0.692719</td>\n",
              "      <td>0.167908</td>\n",
              "      <td>0.709227</td>\n",
              "      <td>0.631449</td>\n",
              "      <td>0.124601</td>\n",
              "      <td>...</td>\n",
              "      <td>0.094967</td>\n",
              "      <td>0.526198</td>\n",
              "      <td>0.412614</td>\n",
              "      <td>0.070614</td>\n",
              "      <td>0.498065</td>\n",
              "      <td>0.392183</td>\n",
              "      <td>0.092562</td>\n",
              "      <td>0.527856</td>\n",
              "      <td>0.421974</td>\n",
              "      <td>0.061295</td>\n",
              "      <td>0.476732</td>\n",
              "      <td>0.375320</td>\n",
              "      <td>0.056356</td>\n",
              "      <td>0.460278</td>\n",
              "      <td>0.349020</td>\n",
              "      <td>0.062745</td>\n",
              "      <td>0.473915</td>\n",
              "      <td>0.344248</td>\n",
              "      <td>0.059320</td>\n",
              "      <td>0.486771</td>\n",
              "      <td>0.346092</td>\n",
              "      <td>0.090013</td>\n",
              "      <td>0.521425</td>\n",
              "      <td>0.399817</td>\n",
              "      <td>0.109617</td>\n",
              "      <td>0.540314</td>\n",
              "      <td>0.425925</td>\n",
              "      <td>0.147143</td>\n",
              "      <td>0.574594</td>\n",
              "      <td>0.460868</td>\n",
              "      <td>0.194224</td>\n",
              "      <td>0.621675</td>\n",
              "      <td>0.505359</td>\n",
              "      <td>0.213413</td>\n",
              "      <td>0.643358</td>\n",
              "      <td>0.521569</td>\n",
              "      <td>0.196588</td>\n",
              "      <td>0.624039</td>\n",
              "      <td>0.502471</td>\n",
              "      <td>2</td>\n",
              "    </tr>\n",
              "    <tr>\n",
              "      <th>72</th>\n",
              "      <td>0.905669</td>\n",
              "      <td>0.958610</td>\n",
              "      <td>0.988863</td>\n",
              "      <td>0.786027</td>\n",
              "      <td>0.887203</td>\n",
              "      <td>0.949804</td>\n",
              "      <td>0.737224</td>\n",
              "      <td>0.858243</td>\n",
              "      <td>0.938980</td>\n",
              "      <td>0.844075</td>\n",
              "      <td>0.927533</td>\n",
              "      <td>0.984314</td>\n",
              "      <td>0.874510</td>\n",
              "      <td>0.944863</td>\n",
              "      <td>0.992157</td>\n",
              "      <td>0.866667</td>\n",
              "      <td>0.937255</td>\n",
              "      <td>0.992157</td>\n",
              "      <td>0.852000</td>\n",
              "      <td>0.929412</td>\n",
              "      <td>0.992157</td>\n",
              "      <td>0.830745</td>\n",
              "      <td>0.921569</td>\n",
              "      <td>0.992157</td>\n",
              "      <td>0.851216</td>\n",
              "      <td>0.928922</td>\n",
              "      <td>0.992157</td>\n",
              "      <td>0.872078</td>\n",
              "      <td>0.936627</td>\n",
              "      <td>0.992157</td>\n",
              "      <td>0.849412</td>\n",
              "      <td>0.922745</td>\n",
              "      <td>0.985402</td>\n",
              "      <td>0.772358</td>\n",
              "      <td>0.874318</td>\n",
              "      <td>0.961186</td>\n",
              "      <td>0.771843</td>\n",
              "      <td>0.876314</td>\n",
              "      <td>0.950431</td>\n",
              "      <td>0.750936</td>\n",
              "      <td>...</td>\n",
              "      <td>0.478824</td>\n",
              "      <td>0.685647</td>\n",
              "      <td>0.787608</td>\n",
              "      <td>0.494745</td>\n",
              "      <td>0.696078</td>\n",
              "      <td>0.798667</td>\n",
              "      <td>0.583363</td>\n",
              "      <td>0.752696</td>\n",
              "      <td>0.838510</td>\n",
              "      <td>0.577725</td>\n",
              "      <td>0.750667</td>\n",
              "      <td>0.834275</td>\n",
              "      <td>0.542372</td>\n",
              "      <td>0.725998</td>\n",
              "      <td>0.817098</td>\n",
              "      <td>0.589553</td>\n",
              "      <td>0.758118</td>\n",
              "      <td>0.836314</td>\n",
              "      <td>0.553697</td>\n",
              "      <td>0.740549</td>\n",
              "      <td>0.828207</td>\n",
              "      <td>0.609719</td>\n",
              "      <td>0.775216</td>\n",
              "      <td>0.857569</td>\n",
              "      <td>0.530547</td>\n",
              "      <td>0.723529</td>\n",
              "      <td>0.817920</td>\n",
              "      <td>0.508163</td>\n",
              "      <td>0.702275</td>\n",
              "      <td>0.804235</td>\n",
              "      <td>0.579875</td>\n",
              "      <td>0.754463</td>\n",
              "      <td>0.847953</td>\n",
              "      <td>0.588706</td>\n",
              "      <td>0.761333</td>\n",
              "      <td>0.855451</td>\n",
              "      <td>0.516392</td>\n",
              "      <td>0.720941</td>\n",
              "      <td>0.819395</td>\n",
              "      <td>2</td>\n",
              "    </tr>\n",
              "    <tr>\n",
              "      <th>73</th>\n",
              "      <td>0.000000</td>\n",
              "      <td>0.541176</td>\n",
              "      <td>0.721569</td>\n",
              "      <td>0.000000</td>\n",
              "      <td>0.541176</td>\n",
              "      <td>0.721569</td>\n",
              "      <td>0.003922</td>\n",
              "      <td>0.541176</td>\n",
              "      <td>0.721569</td>\n",
              "      <td>0.003922</td>\n",
              "      <td>0.541176</td>\n",
              "      <td>0.721569</td>\n",
              "      <td>0.000000</td>\n",
              "      <td>0.541176</td>\n",
              "      <td>0.721569</td>\n",
              "      <td>0.003176</td>\n",
              "      <td>0.541325</td>\n",
              "      <td>0.721717</td>\n",
              "      <td>0.003922</td>\n",
              "      <td>0.545098</td>\n",
              "      <td>0.725490</td>\n",
              "      <td>0.003922</td>\n",
              "      <td>0.545098</td>\n",
              "      <td>0.725490</td>\n",
              "      <td>0.000000</td>\n",
              "      <td>0.541176</td>\n",
              "      <td>0.721569</td>\n",
              "      <td>0.000000</td>\n",
              "      <td>0.541176</td>\n",
              "      <td>0.721569</td>\n",
              "      <td>0.000000</td>\n",
              "      <td>0.541882</td>\n",
              "      <td>0.721569</td>\n",
              "      <td>0.000000</td>\n",
              "      <td>0.545098</td>\n",
              "      <td>0.721569</td>\n",
              "      <td>0.000000</td>\n",
              "      <td>0.545098</td>\n",
              "      <td>0.721569</td>\n",
              "      <td>0.000000</td>\n",
              "      <td>...</td>\n",
              "      <td>0.007843</td>\n",
              "      <td>0.639869</td>\n",
              "      <td>0.788235</td>\n",
              "      <td>0.007843</td>\n",
              "      <td>0.643137</td>\n",
              "      <td>0.792131</td>\n",
              "      <td>0.015686</td>\n",
              "      <td>0.650980</td>\n",
              "      <td>0.799866</td>\n",
              "      <td>0.015686</td>\n",
              "      <td>0.650499</td>\n",
              "      <td>0.800000</td>\n",
              "      <td>0.019608</td>\n",
              "      <td>0.652837</td>\n",
              "      <td>0.801856</td>\n",
              "      <td>0.023529</td>\n",
              "      <td>0.654902</td>\n",
              "      <td>0.803922</td>\n",
              "      <td>0.027451</td>\n",
              "      <td>0.662745</td>\n",
              "      <td>0.811765</td>\n",
              "      <td>0.031373</td>\n",
              "      <td>0.666667</td>\n",
              "      <td>0.815686</td>\n",
              "      <td>0.039216</td>\n",
              "      <td>0.666667</td>\n",
              "      <td>0.815686</td>\n",
              "      <td>0.046766</td>\n",
              "      <td>0.670295</td>\n",
              "      <td>0.819608</td>\n",
              "      <td>0.050980</td>\n",
              "      <td>0.674510</td>\n",
              "      <td>0.827451</td>\n",
              "      <td>0.050980</td>\n",
              "      <td>0.674510</td>\n",
              "      <td>0.827451</td>\n",
              "      <td>0.050980</td>\n",
              "      <td>0.674510</td>\n",
              "      <td>0.827451</td>\n",
              "      <td>2</td>\n",
              "    </tr>\n",
              "    <tr>\n",
              "      <th>74</th>\n",
              "      <td>0.079085</td>\n",
              "      <td>0.527451</td>\n",
              "      <td>0.923529</td>\n",
              "      <td>0.083797</td>\n",
              "      <td>0.534333</td>\n",
              "      <td>0.924379</td>\n",
              "      <td>0.077887</td>\n",
              "      <td>0.521895</td>\n",
              "      <td>0.922876</td>\n",
              "      <td>0.075092</td>\n",
              "      <td>0.504948</td>\n",
              "      <td>0.920022</td>\n",
              "      <td>0.076294</td>\n",
              "      <td>0.492863</td>\n",
              "      <td>0.918059</td>\n",
              "      <td>0.075817</td>\n",
              "      <td>0.492157</td>\n",
              "      <td>0.918301</td>\n",
              "      <td>0.075832</td>\n",
              "      <td>0.486366</td>\n",
              "      <td>0.916355</td>\n",
              "      <td>0.077353</td>\n",
              "      <td>0.476176</td>\n",
              "      <td>0.914706</td>\n",
              "      <td>0.076580</td>\n",
              "      <td>0.492876</td>\n",
              "      <td>0.917669</td>\n",
              "      <td>0.076926</td>\n",
              "      <td>0.510915</td>\n",
              "      <td>0.920176</td>\n",
              "      <td>0.080621</td>\n",
              "      <td>0.519020</td>\n",
              "      <td>0.922680</td>\n",
              "      <td>0.082556</td>\n",
              "      <td>0.517778</td>\n",
              "      <td>0.922390</td>\n",
              "      <td>0.076471</td>\n",
              "      <td>0.498856</td>\n",
              "      <td>0.919880</td>\n",
              "      <td>0.076928</td>\n",
              "      <td>...</td>\n",
              "      <td>0.073399</td>\n",
              "      <td>0.484902</td>\n",
              "      <td>0.918301</td>\n",
              "      <td>0.077538</td>\n",
              "      <td>0.486078</td>\n",
              "      <td>0.917821</td>\n",
              "      <td>0.064837</td>\n",
              "      <td>0.433922</td>\n",
              "      <td>0.909869</td>\n",
              "      <td>0.058368</td>\n",
              "      <td>0.386020</td>\n",
              "      <td>0.903638</td>\n",
              "      <td>0.051874</td>\n",
              "      <td>0.366732</td>\n",
              "      <td>0.900436</td>\n",
              "      <td>0.068660</td>\n",
              "      <td>0.422059</td>\n",
              "      <td>0.908627</td>\n",
              "      <td>0.073878</td>\n",
              "      <td>0.445229</td>\n",
              "      <td>0.911133</td>\n",
              "      <td>0.082155</td>\n",
              "      <td>0.474248</td>\n",
              "      <td>0.915797</td>\n",
              "      <td>0.142712</td>\n",
              "      <td>0.517647</td>\n",
              "      <td>0.922092</td>\n",
              "      <td>0.142795</td>\n",
              "      <td>0.491980</td>\n",
              "      <td>0.918540</td>\n",
              "      <td>0.074880</td>\n",
              "      <td>0.453791</td>\n",
              "      <td>0.912985</td>\n",
              "      <td>0.203431</td>\n",
              "      <td>0.541176</td>\n",
              "      <td>0.925359</td>\n",
              "      <td>0.511547</td>\n",
              "      <td>0.704248</td>\n",
              "      <td>0.949455</td>\n",
              "      <td>2</td>\n",
              "    </tr>\n",
              "  </tbody>\n",
              "</table>\n",
              "<p>75 rows × 67501 columns</p>\n",
              "</div>"
            ],
            "text/plain": [
              "           0         1         2  ...     67498     67499  TARGET\n",
              "0   0.583834  0.689542  0.771895  ...  0.113725  0.089542       0\n",
              "1   0.498349  0.576471  0.427059  ...  0.614902  0.478388       0\n",
              "2   0.705882  0.654902  0.635843  ...  0.333333  0.184314       0\n",
              "3   0.805294  0.921569  0.950392  ...  0.582353  0.485686       0\n",
              "4   0.678431  0.803922  0.988235  ...  0.562353  0.243137       0\n",
              "..       ...       ...       ...  ...       ...       ...     ...\n",
              "70  0.396078  0.447059  0.650980  ...  0.505961  0.338693       2\n",
              "71  0.234444  0.807067  0.779542  ...  0.624039  0.502471       2\n",
              "72  0.905669  0.958610  0.988863  ...  0.720941  0.819395       2\n",
              "73  0.000000  0.541176  0.721569  ...  0.674510  0.827451       2\n",
              "74  0.079085  0.527451  0.923529  ...  0.704248  0.949455       2\n",
              "\n",
              "[75 rows x 67501 columns]"
            ]
          },
          "metadata": {
            "tags": []
          },
          "execution_count": 8
        },
        {
          "output_type": "stream",
          "text": [
            "time: 1min 15s (started: 2021-06-28 18:11:34 +00:00)\n"
          ],
          "name": "stdout"
        }
      ]
    },
    {
      "cell_type": "code",
      "metadata": {
        "colab": {
          "base_uri": "https://localhost:8080/"
        },
        "id": "LHBklB6e0hgh",
        "outputId": "8334ada6-ffee-47f7-fb94-fc69d7421e26"
      },
      "source": [
        "len(flat_data[0])"
      ],
      "execution_count": 9,
      "outputs": [
        {
          "output_type": "execute_result",
          "data": {
            "text/plain": [
              "67500"
            ]
          },
          "metadata": {
            "tags": []
          },
          "execution_count": 9
        },
        {
          "output_type": "stream",
          "text": [
            "time: 2.83 ms (started: 2021-06-28 18:12:55 +00:00)\n"
          ],
          "name": "stdout"
        }
      ]
    },
    {
      "cell_type": "code",
      "metadata": {
        "colab": {
          "base_uri": "https://localhost:8080/"
        },
        "id": "2ejzuU3d0zN_",
        "outputId": "74683941-1b0a-4d01-af4c-76682f25c258"
      },
      "source": [
        "target"
      ],
      "execution_count": 10,
      "outputs": [
        {
          "output_type": "execute_result",
          "data": {
            "text/plain": [
              "array([0, 0, 0, 0, 0, 0, 0, 0, 0, 0, 0, 0, 0, 0, 0, 0, 0, 0, 0, 0, 0, 0,\n",
              "       0, 0, 0, 1, 1, 1, 1, 1, 1, 1, 1, 1, 1, 1, 1, 1, 1, 1, 1, 1, 1, 1,\n",
              "       1, 1, 1, 1, 1, 1, 2, 2, 2, 2, 2, 2, 2, 2, 2, 2, 2, 2, 2, 2, 2, 2,\n",
              "       2, 2, 2, 2, 2, 2, 2, 2, 2])"
            ]
          },
          "metadata": {
            "tags": []
          },
          "execution_count": 10
        },
        {
          "output_type": "stream",
          "text": [
            "time: 10.8 ms (started: 2021-06-28 18:13:09 +00:00)\n"
          ],
          "name": "stdout"
        }
      ]
    },
    {
      "cell_type": "code",
      "metadata": {
        "colab": {
          "base_uri": "https://localhost:8080/",
          "height": 282
        },
        "id": "48Ac_icu03zV",
        "outputId": "5aa57ec6-af8c-4a78-a288-5a5b6fbf2e63"
      },
      "source": [
        "unique,count=np.unique(target,return_counts=True)\n",
        "barlist=plt.bar(CATEGORIES,count)\n",
        "barlist[0].set_color('r')\n",
        "barlist[1].set_color('g')\n",
        "\n",
        "plt.show()"
      ],
      "execution_count": 11,
      "outputs": [
        {
          "output_type": "display_data",
          "data": {
            "image/png": "[encoded data removed]",
            "text/plain": [
              "<Figure size 432x288 with 1 Axes>"
            ]
          },
          "metadata": {
            "tags": [],
            "needs_background": "light"
          }
        },
        {
          "output_type": "stream",
          "text": [
            "time: 154 ms (started: 2021-06-28 18:13:28 +00:00)\n"
          ],
          "name": "stdout"
        }
      ]
    },
    {
      "cell_type": "code",
      "metadata": {
        "colab": {
          "base_uri": "https://localhost:8080/"
        },
        "id": "ijj8ZKK308d4",
        "outputId": "123e6139-360d-425e-fbd7-2896360e69f6"
      },
      "source": [
        "#split data into training and testing\n",
        "\n",
        "from sklearn.model_selection import train_test_split\n",
        "x_train,x_test,y_train,y_test=train_test_split(flat_data,target,test_size=0.3,random_state=109)"
      ],
      "execution_count": 12,
      "outputs": [
        {
          "output_type": "stream",
          "text": [
            "time: 319 ms (started: 2021-06-28 18:13:46 +00:00)\n"
          ],
          "name": "stdout"
        }
      ]
    },
    {
      "cell_type": "code",
      "metadata": {
        "colab": {
          "base_uri": "https://localhost:8080/"
        },
        "id": "lDp8wr3L1ACU",
        "outputId": "08c34586-2b76-49fc-de3d-85b05aa75fcb"
      },
      "source": [
        "from sklearn.model_selection import GridSearchCV\n",
        "from sklearn import svm\n",
        "param_grid=[\n",
        "            \n",
        "            {'C':[1,10,100,1000],'gamma':[0.001,0.0001]}\n",
        "            \n",
        "]         \n",
        "\n",
        "svc=svm.SVC(probability=True)\n",
        "clf= GridSearchCV(svc, param_grid)\n",
        "clf.fit(x_train,y_train) #building model"
      ],
      "execution_count": 13,
      "outputs": [
        {
          "output_type": "execute_result",
          "data": {
            "text/plain": [
              "GridSearchCV(cv=None, error_score=nan,\n",
              "             estimator=SVC(C=1.0, break_ties=False, cache_size=200,\n",
              "                           class_weight=None, coef0=0.0,\n",
              "                           decision_function_shape='ovr', degree=3,\n",
              "                           gamma='scale', kernel='rbf', max_iter=-1,\n",
              "                           probability=True, random_state=None, shrinking=True,\n",
              "                           tol=0.001, verbose=False),\n",
              "             iid='deprecated', n_jobs=None,\n",
              "             param_grid=[{'C': [1, 10, 100, 1000], 'gamma': [0.001, 0.0001]}],\n",
              "             pre_dispatch='2*n_jobs', refit=True, return_train_score=False,\n",
              "             scoring=None, verbose=0)"
            ]
          },
          "metadata": {
            "tags": []
          },
          "execution_count": 13
        },
        {
          "output_type": "stream",
          "text": [
            "time: 1min (started: 2021-06-28 18:14:01 +00:00)\n"
          ],
          "name": "stdout"
        }
      ]
    },
    {
      "cell_type": "code",
      "metadata": {
        "colab": {
          "base_uri": "https://localhost:8080/"
        },
        "id": "ehH1hiv31Bie",
        "outputId": "392036a8-13dc-45d2-b07d-429286f3ce87"
      },
      "source": [
        "y_pred=clf.predict(x_test)\n",
        "y_pred"
      ],
      "execution_count": 14,
      "outputs": [
        {
          "output_type": "execute_result",
          "data": {
            "text/plain": [
              "array([1, 2, 0, 1, 0, 0, 0, 0, 1, 1, 2, 0, 2, 2, 1, 2, 1, 2, 0, 1, 0, 0,\n",
              "       0])"
            ]
          },
          "metadata": {
            "tags": []
          },
          "execution_count": 14
        },
        {
          "output_type": "stream",
          "text": [
            "time: 161 ms (started: 2021-06-28 18:15:06 +00:00)\n"
          ],
          "name": "stdout"
        }
      ]
    },
    {
      "cell_type": "code",
      "metadata": {
        "colab": {
          "base_uri": "https://localhost:8080/"
        },
        "id": "ulcxXFtt1RlO",
        "outputId": "3f5e85e7-97f5-4951-85d8-50affffb1083"
      },
      "source": [
        "y_test"
      ],
      "execution_count": 15,
      "outputs": [
        {
          "output_type": "execute_result",
          "data": {
            "text/plain": [
              "array([1, 2, 0, 1, 0, 1, 1, 0, 1, 0, 2, 0, 2, 2, 1, 2, 1, 2, 0, 1, 0, 0,\n",
              "       0])"
            ]
          },
          "metadata": {
            "tags": []
          },
          "execution_count": 15
        },
        {
          "output_type": "stream",
          "text": [
            "time: 5.32 ms (started: 2021-06-28 18:15:13 +00:00)\n"
          ],
          "name": "stdout"
        }
      ]
    },
    {
      "cell_type": "code",
      "metadata": {
        "colab": {
          "base_uri": "https://localhost:8080/"
        },
        "id": "w2fsWizh1Tgb",
        "outputId": "68a4901c-b07c-4c63-92a7-d11e5b930627"
      },
      "source": [
        "from sklearn.metrics import accuracy_score,confusion_matrix"
      ],
      "execution_count": 16,
      "outputs": [
        {
          "output_type": "stream",
          "text": [
            "time: 2.84 ms (started: 2021-06-28 18:15:29 +00:00)\n"
          ],
          "name": "stdout"
        }
      ]
    },
    {
      "cell_type": "code",
      "metadata": {
        "colab": {
          "base_uri": "https://localhost:8080/"
        },
        "id": "VH1UDQa11Yao",
        "outputId": "fbe1c5fc-1af7-453b-f3d4-d91958ca2ce2"
      },
      "source": [
        "accuracy_score(y_pred,y_test)"
      ],
      "execution_count": 17,
      "outputs": [
        {
          "output_type": "execute_result",
          "data": {
            "text/plain": [
              "0.8695652173913043"
            ]
          },
          "metadata": {
            "tags": []
          },
          "execution_count": 17
        },
        {
          "output_type": "stream",
          "text": [
            "time: 6.35 ms (started: 2021-06-28 18:15:41 +00:00)\n"
          ],
          "name": "stdout"
        }
      ]
    },
    {
      "cell_type": "code",
      "metadata": {
        "colab": {
          "base_uri": "https://localhost:8080/"
        },
        "id": "Te7ptwBY1boM",
        "outputId": "b29486c1-df3f-47bf-e296-1d8c945da42c"
      },
      "source": [
        "confusion_matrix(y_pred,y_test)"
      ],
      "execution_count": 18,
      "outputs": [
        {
          "output_type": "execute_result",
          "data": {
            "text/plain": [
              "array([[8, 2, 0],\n",
              "       [1, 6, 0],\n",
              "       [0, 0, 6]])"
            ]
          },
          "metadata": {
            "tags": []
          },
          "execution_count": 18
        },
        {
          "output_type": "stream",
          "text": [
            "time: 11.4 ms (started: 2021-06-28 18:15:56 +00:00)\n"
          ],
          "name": "stdout"
        }
      ]
    },
    {
      "cell_type": "code",
      "metadata": {
        "colab": {
          "base_uri": "https://localhost:8080/"
        },
        "id": "XSSNvKPJ1f3Q",
        "outputId": "76b6fb85-96ed-40b4-b55c-ff453666589d"
      },
      "source": [
        "import pickle #saving and deploying the model\n",
        "pickle.dump(clf,open('img_model.p','wb'))"
      ],
      "execution_count": 19,
      "outputs": [
        {
          "output_type": "stream",
          "text": [
            "time: 72.1 ms (started: 2021-06-28 18:16:12 +00:00)\n"
          ],
          "name": "stdout"
        }
      ]
    },
    {
      "cell_type": "code",
      "metadata": {
        "colab": {
          "base_uri": "https://localhost:8080/"
        },
        "id": "0GTV6M3M1i7E",
        "outputId": "2b8b9153-4753-4299-b108-4982e2b477f4"
      },
      "source": [
        "model=pickle.load(open('img_model.p','rb'))"
      ],
      "execution_count": 20,
      "outputs": [
        {
          "output_type": "stream",
          "text": [
            "time: 50.6 ms (started: 2021-06-28 18:16:24 +00:00)\n"
          ],
          "name": "stdout"
        }
      ]
    },
    {
      "cell_type": "code",
      "metadata": {
        "colab": {
          "base_uri": "https://localhost:8080/",
          "height": 373
        },
        "id": "7jkL63BR1ohy",
        "outputId": "c75c658f-795f-4c80-c57d-3a797c933b90"
      },
      "source": [
        "# testing a new image\n",
        "\n",
        "from skimage.color import rgb2gray\n",
        "flat_data=[]\n",
        "flat_data1=[]\n",
        "url=input('Enter your URL : ')\n",
        "img=imread(url)\n",
        "img_resized=resize(img,(150,150,3))\n",
        "flat_data.append(img_resized.flatten())\n",
        "flat_data=np.array(flat_data)\n",
        "print(img.shape)\n",
        "plt.imshow(img_resized)\n",
        "y_out=model.predict(flat_data)\n",
        "y_out=CATEGORIES[y_out[0]]\n",
        "print(f'Predicted Output:{y_out}')\n",
        "\n",
        "print('The coloured image!')"
      ],
      "execution_count": 21,
      "outputs": [
        {
          "output_type": "stream",
          "text": [
            "Enter your URL : https://www.thoughtco.com/thmb/AvVf2u-2pJZC0aQD-kUlv2ESZD4=/5120x2880/smart/filters:no_upscale()/atlantic-bottlenose-dolphin--jumping-high-during-a-dolphin-training-demonstration-154724035-59ce93949abed50011352530.jpg\n",
            "(2880, 5120, 3)\n",
            "Predicted Output:Beautiful Dolphin\n",
            "The coloured image!\n"
          ],
          "name": "stdout"
        },
        {
          "output_type": "display_data",
          "data": {
            "image/png": "[encoded data removed]",
            "text/plain": [
              "<Figure size 432x288 with 1 Axes>"
            ]
          },
          "metadata": {
            "tags": [],
            "needs_background": "light"
          }
        },
        {
          "output_type": "stream",
          "text": [
            "time: 16.6 s (started: 2021-06-28 18:16:47 +00:00)\n"
          ],
          "name": "stdout"
        }
      ]
    },
    {
      "cell_type": "code",
      "metadata": {
        "colab": {
          "base_uri": "https://localhost:8080/",
          "height": 351
        },
        "id": "rqwx3ZCx1wqb",
        "outputId": "16661011-ab1f-4557-d7e5-2e5a0a6e4b32"
      },
      "source": [
        "img_resize = resize(img,(50,50))\n",
        "img_gray = rgb2gray(img_resize)\n",
        "plt.imshow(img_gray,cmap='gray')\n",
        "img_gray.size\n",
        "print('The gray scaled image!')\n",
        "q=model.predict_proba(flat_data)\n",
        "for index, item in enumerate(CATEGORIES):\n",
        "  print(f'{item} : {q[0][index]*100}')"
      ],
      "execution_count": 22,
      "outputs": [
        {
          "output_type": "stream",
          "text": [
            "The gray scaled image!\n",
            "horses : 28.833924965973086\n",
            "pretty butterfly : 4.884757076999971\n",
            "Beautiful Dolphin : 66.28131795702694\n"
          ],
          "name": "stdout"
        },
        {
          "output_type": "display_data",
          "data": {
            "image/png": "[encoded data removed]",
            "text/plain": [
              "<Figure size 432x288 with 1 Axes>"
            ]
          },
          "metadata": {
            "tags": [],
            "needs_background": "light"
          }
        },
        {
          "output_type": "stream",
          "text": [
            "time: 21.9 s (started: 2021-06-28 18:17:20 +00:00)\n"
          ],
          "name": "stdout"
        }
      ]
    },
    {
      "cell_type": "code",
      "metadata": {
        "colab": {
          "base_uri": "https://localhost:8080/"
        },
        "id": "RGMD_7nB15di",
        "outputId": "7f53d6f4-361c-490c-adf3-2208e4ce9bf2"
      },
      "source": [
        "print('Minor project completed!')"
      ],
      "execution_count": 23,
      "outputs": [
        {
          "output_type": "stream",
          "text": [
            "Minor project completed!\n",
            "time: 8.16 ms (started: 2021-06-28 18:18:24 +00:00)\n"
          ],
          "name": "stdout"
        }
      ]
    }
  ]
}